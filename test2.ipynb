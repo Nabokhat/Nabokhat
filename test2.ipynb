{
 "cells": [
  {
   "cell_type": "markdown",
   "metadata": {},
   "source": [
    "test2\n"
   ]
  },
  {
   "cell_type": "code",
   "execution_count": 5,
   "metadata": {},
   "outputs": [
    {
     "name": "stdout",
     "output_type": "stream",
     "text": [
      "A\n"
     ]
    }
   ],
   "source": [
    "#1\n",
    "mark=int(input('plese enter your mark'))\n",
    "\n",
    "if mark>90:\n",
    "    print('A')\n",
    "elif mark>80 and mark<=90:\n",
    "    print('B')\n",
    "elif mark>=60 and mark <=80:\n",
    "    print('C')\n",
    "else:\n",
    "    print('D')"
   ]
  },
  {
   "cell_type": "code",
   "execution_count": 13,
   "metadata": {},
   "outputs": [
    {
     "name": "stdout",
     "output_type": "stream",
     "text": [
      " the amount of tax you should pay: 2250.0\n"
     ]
    }
   ],
   "source": [
    "#2\n",
    "price=int(input('please enter your bike price'))\n",
    "tax=0\n",
    "if price>100000:\n",
    "    tax=15/100*price\n",
    "elif price >50000 and price<=100000:\n",
    "    tax=10/100*price\n",
    "else:\n",
    "    tax=5/100*price\n",
    "\n",
    "print(' the amount of tax you should pay:',tax)"
   ]
  },
  {
   "cell_type": "code",
   "execution_count": 16,
   "metadata": {},
   "outputs": [
    {
     "name": "stdout",
     "output_type": "stream",
     "text": [
      "entered year is leap year\n"
     ]
    }
   ],
   "source": [
    "#3\n",
    "y=int(input('please enter the year'))\n",
    "\n",
    "if y%4==0:\n",
    "    print('entered year is leap year')\n",
    "else:\n",
    "    print('entered year is not leap year')"
   ]
  },
  {
   "cell_type": "code",
   "execution_count": 19,
   "metadata": {},
   "outputs": [
    {
     "name": "stdout",
     "output_type": "stream",
     "text": [
      "please enter only between 1 and 7\n"
     ]
    }
   ],
   "source": [
    "#4 \n",
    "day=int(input('enter number to know day name of week '))\n",
    "\n",
    "\n",
    "if day==1:\n",
    "    print('monday')\n",
    "elif day==2:\n",
    "    print('tuesday')\n",
    "elif day==3:\n",
    "    print('wednesday')\n",
    "elif day==4:\n",
    "    print('thursday')\n",
    "elif day==5:\n",
    "    print('friday')\n",
    "elif day==6:\n",
    "    print('saturday')\n",
    "elif day==7:\n",
    "    print('sunday')\n",
    "\n",
    "else:\n",
    "    print('please enter only between 1 and 7')"
   ]
  },
  {
   "cell_type": "code",
   "execution_count": 21,
   "metadata": {},
   "outputs": [
    {
     "name": "stdout",
     "output_type": "stream",
     "text": [
      "april\n"
     ]
    }
   ],
   "source": [
    "#5\n",
    "\n",
    "m=int(input('enter number to know month '))\n",
    "\n",
    "\n",
    "if m==1:\n",
    "    print('january')\n",
    "elif m==2:\n",
    "    print('february')\n",
    "elif m==3:\n",
    "    print('march')\n",
    "elif m==4:\n",
    "    print('april')\n",
    "elif m==5:\n",
    "    print('may')\n",
    "elif m==6:\n",
    "    print('june')\n",
    "elif m==7:\n",
    "    print('july')\n",
    "elif m==8:\n",
    "    print('august')\n",
    "elif m==9:\n",
    "    print('september')\n",
    "elif m==10:\n",
    "    print('october')\n",
    "elif m==11:\n",
    "    print('november')\n",
    "elif m==12:\n",
    "    print('december')\n",
    "else:\n",
    "    print('please enter only between 1 and 12')"
   ]
  },
  {
   "cell_type": "code",
   "execution_count": null,
   "metadata": {},
   "outputs": [],
   "source": [
    "#8\n",
    "a>b and C>D"
   ]
  },
  {
   "cell_type": "code",
   "execution_count": 23,
   "metadata": {},
   "outputs": [
    {
     "name": "stdout",
     "output_type": "stream",
     "text": [
      "monument: taj mahal\n"
     ]
    }
   ],
   "source": [
    "#9\n",
    "CITY=input('enter city')\n",
    "if CITY=='dehli':\n",
    "    print('monument: red fort')\n",
    "elif CITY=='agra':\n",
    "    print('monument: taj mahal')\n",
    "elif CITY=='jaipur':\n",
    "    print('monument: jal mahal')\n",
    "else:\n",
    "    print('you entered wrong city')"
   ]
  },
  {
   "cell_type": "code",
   "execution_count": null,
   "metadata": {},
   "outputs": [],
   "source": [
    "#10\n",
    "'hello chiqaradi'"
   ]
  }
 ],
 "metadata": {
  "kernelspec": {
   "display_name": "Python 3",
   "language": "python",
   "name": "python3"
  },
  "language_info": {
   "codemirror_mode": {
    "name": "ipython",
    "version": 3
   },
   "file_extension": ".py",
   "mimetype": "text/x-python",
   "name": "python",
   "nbconvert_exporter": "python",
   "pygments_lexer": "ipython3",
   "version": "3.13.2"
  }
 },
 "nbformat": 4,
 "nbformat_minor": 2
}
