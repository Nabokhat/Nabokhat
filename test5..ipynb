{
 "cells": [
  {
   "cell_type": "code",
   "execution_count": 6,
   "metadata": {},
   "outputs": [
    {
     "name": "stdout",
     "output_type": "stream",
     "text": [
      "your attendance: 62.0\n",
      "you are not allowed to pass exam\n"
     ]
    }
   ],
   "source": [
    "#1\n",
    "a=int(input('enter totall working days'))\n",
    "b=int(input('enter absent days'))\n",
    "\n",
    "k=((a-b)/a)*100\n",
    "print('your attendance:',k)\n",
    "\n",
    "if k<75:\n",
    "    print('you are not allowed to pass exam')\n",
    "else:\n",
    "    print('please, pass your exam')"
   ]
  },
  {
   "cell_type": "code",
   "execution_count": 15,
   "metadata": {},
   "outputs": [
    {
     "name": "stdout",
     "output_type": "stream",
     "text": [
      "b+\n"
     ]
    }
   ],
   "source": [
    "x=int(input('enter your grade'))\n",
    "\n",
    "if x<25:\n",
    "    print('d')\n",
    "elif x>25 and x<=45:\n",
    "    print('c')\n",
    "elif x>45 and x<=50:\n",
    "    print('b')\n",
    "elif x>50 and x<=60:\n",
    "    print('b+')\n",
    "elif x>60 and x<=80:\n",
    "    print('a')\n",
    "else:\n",
    "    print('a+')"
   ]
  },
  {
   "cell_type": "code",
   "execution_count": 19,
   "metadata": {},
   "outputs": [
    {
     "name": "stdout",
     "output_type": "stream",
     "text": [
      "your bonus+ 400.0\n"
     ]
    }
   ],
   "source": [
    "a=int(input('enter salary'))\n",
    "b=int(input('enter years of service'))\n",
    "\n",
    "if b>10:\n",
    "    c=10/100*a\n",
    "elif b>=6 and b<=10:\n",
    "    c=8/100*a\n",
    "else:\n",
    "    c=5/100*a\n",
    "print('your bonus+',c)"
   ]
  },
  {
   "cell_type": "code",
   "execution_count": 2,
   "metadata": {},
   "outputs": [
    {
     "name": "stdout",
     "output_type": "stream",
     "text": [
      "net amount:  12000.0\n"
     ]
    }
   ],
   "source": [
    "p=int(input('please enter market price '))\n",
    "\n",
    "d=0\n",
    "na=0\n",
    "\n",
    "if p >1000:\n",
    "    d=20/100*p\n",
    "if p>7000 and p<=1000:\n",
    "    d=15/100*p\n",
    "elif p<=7000:\n",
    "    d=10/100*p\n",
    "na=p-d\n",
    "print('net amount: ',na)"
   ]
  },
  {
   "cell_type": "code",
   "execution_count": null,
   "metadata": {},
   "outputs": [
    {
     "name": "stdout",
     "output_type": "stream",
     "text": [
      "fair\n"
     ]
    }
   ],
   "source": [
    "res=int(input('enter your percentage'))\n",
    "if res <40:\n",
    "    print('failed')\n",
    "elif res>=40 and res<55:\n",
    "    print('fair')\n",
    "elif res >=55 and res <65:\n",
    "    print('good')\n",
    "else:\n",
    "    print('excellent')\n",
    "\n"
   ]
  },
  {
   "cell_type": "code",
   "execution_count": 9,
   "metadata": {},
   "outputs": [
    {
     "name": "stdout",
     "output_type": "stream",
     "text": [
      "scalene triangle\n"
     ]
    }
   ],
   "source": [
    "m1=int(input('enter 1st side'))\n",
    "m2=int(input('enter 2nd side'))\n",
    "m3=int(input('enter 3rd side'))\n",
    "\n",
    "\n",
    "if m1==m2==m3:\n",
    "    print('equilateral triangle')\n",
    "elif( m1==m2 and m2!=m3) or ( m2==m3 and m3!=m1) or (m1==m3 and m1!=m2) :\n",
    "    print('isosceles triangle')\n",
    "elif m1!=m2 and m1!=m3 and m2!=m3:\n",
    "    print('scalene triangle')"
   ]
  },
  {
   "cell_type": "code",
   "execution_count": null,
   "metadata": {},
   "outputs": [
    {
     "name": "stdout",
     "output_type": "stream",
     "text": [
      "result:  24\n"
     ]
    }
   ],
   "source": [
    "f=int(input('enter 1st number'))\n",
    "s=int(input('enter 2nd number'))\n",
    "o=input('enter operator(+,-,*,/)')\n",
    "\n",
    "if o=='+':\n",
    "    print('result: ',f+s)\n",
    "if o=='-':\n",
    "    print('result: ',f-s)\n",
    "\n",
    "if o=='*':\n",
    "    print('result: ',f*s)\n",
    "if o=='/':\n",
    "    print('result: ',f/s)\n",
    "\n"
   ]
  },
  {
   "cell_type": "code",
   "execution_count": null,
   "metadata": {},
   "outputs": [],
   "source": [
    "age=int(input('enter age'))\n",
    "sex=input('enter sex(m / f)')\n",
    "days=int(input('enter number of days'))\n",
    "\n",
    "if age>=18 and age< 30 and sex=='m':\n",
    "    amount=days*700\n",
    "elif age>=18 and age< 30 and sex=='f':\n",
    "    amount=days*750\n",
    "elif age>=30 and age< 40 and sex=='m':\n",
    "    amount=days*800"
   ]
  },
  {
   "cell_type": "code",
   "execution_count": 14,
   "metadata": {},
   "outputs": [
    {
     "name": "stdout",
     "output_type": "stream",
     "text": [
      "35\n"
     ]
    }
   ],
   "source": [
    "n1=int(input('enter 1st number'))\n",
    "n2=int(input('enter 2nd number'))\n",
    "n3=int(input('enter 3rd number'))\n",
    "\n",
    "\n",
    "\n",
    "if (n1>n2 and n1<n3) or (n1<n2 and n1>n3):\n",
    "    print(n1)\n",
    "if (n2>n1 and n2<n3) or (n2<n1 and n2>n3):\n",
    "    print(n2) \n",
    "if (n3>n2 and n3<n1) or (n3<n2 and n3>n1):\n",
    "    print(n3) "
   ]
  },
  {
   "cell_type": "code",
   "execution_count": null,
   "metadata": {},
   "outputs": [],
   "source": []
  },
  {
   "cell_type": "code",
   "execution_count": null,
   "metadata": {},
   "outputs": [],
   "source": []
  }
 ],
 "metadata": {
  "kernelspec": {
   "display_name": "Python 3",
   "language": "python",
   "name": "python3"
  },
  "language_info": {
   "codemirror_mode": {
    "name": "ipython",
    "version": 3
   },
   "file_extension": ".py",
   "mimetype": "text/x-python",
   "name": "python",
   "nbconvert_exporter": "python",
   "pygments_lexer": "ipython3",
   "version": "3.13.2"
  }
 },
 "nbformat": 4,
 "nbformat_minor": 2
}
