{
 "cells": [
  {
   "cell_type": "markdown",
   "metadata": {},
   "source": [
    "test4"
   ]
  },
  {
   "cell_type": "code",
   "execution_count": 3,
   "metadata": {},
   "outputs": [
    {
     "name": "stdout",
     "output_type": "stream",
     "text": [
      "not boiled\n"
     ]
    }
   ],
   "source": [
    "#1\n",
    "temp=int(input('pls, enter the temperature'))\n",
    "\n",
    "if temp>99:\n",
    "    print('boiled')\n",
    "else:\n",
    "    print('not boiled')"
   ]
  },
  {
   "cell_type": "code",
   "execution_count": null,
   "metadata": {},
   "outputs": [],
   "source": [
    "#2flow chart\n",
    "#3 pass\n",
    "#5 elif\n"
   ]
  },
  {
   "cell_type": "code",
   "execution_count": 10,
   "metadata": {},
   "outputs": [
    {
     "name": "stdout",
     "output_type": "stream",
     "text": [
      "Largest age is: 70\n"
     ]
    }
   ],
   "source": [
    "#8\n",
    "n1=int(input('please enter 1st age'))\n",
    "n2=int(input('please enter 2nd age'))\n",
    "n3=int(input('please enter 3rd age'))\n",
    "n4=int(input('please enter 4th age'))\n",
    "\n",
    "largest = max(n1, n2, n3, n4)  \n",
    "print('Largest age is:', largest)\n"
   ]
  },
  {
   "cell_type": "code",
   "execution_count": 12,
   "metadata": {},
   "outputs": [
    {
     "name": "stdout",
     "output_type": "stream",
     "text": [
      "youngest age is: 10\n"
     ]
    }
   ],
   "source": [
    "#6\n",
    "\n",
    "n1=int(input('please enter 1st age'))\n",
    "n2=int(input('please enter 2nd age'))\n",
    "n3=int(input('please enter 3rd age'))\n",
    "n4=int(input('please enter 4th age'))\n",
    "\n",
    "y = min(n1, n2, n3, n4)  \n",
    "print('youngest age is:', y)\n"
   ]
  },
  {
   "cell_type": "code",
   "execution_count": 18,
   "metadata": {},
   "outputs": [
    {
     "name": "stdout",
     "output_type": "stream",
     "text": [
      "the character is vowel\n"
     ]
    }
   ],
   "source": [
    "#10\n",
    "\n",
    "ip=input('enter character')\n",
    "vowel='aeuioAEOUI'\n",
    "\n",
    "if ip in vowel:\n",
    "    print('the character is vowel')\n",
    "else:\n",
    "    print('not vowel')"
   ]
  }
 ],
 "metadata": {
  "kernelspec": {
   "display_name": "Python 3",
   "language": "python",
   "name": "python3"
  },
  "language_info": {
   "codemirror_mode": {
    "name": "ipython",
    "version": 3
   },
   "file_extension": ".py",
   "mimetype": "text/x-python",
   "name": "python",
   "nbconvert_exporter": "python",
   "pygments_lexer": "ipython3",
   "version": "3.13.2"
  }
 },
 "nbformat": 4,
 "nbformat_minor": 2
}
