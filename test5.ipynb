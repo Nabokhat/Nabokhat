{
 "cells": [
  {
   "cell_type": "code",
   "execution_count": 6,
   "metadata": {},
   "outputs": [
    {
     "name": "stdout",
     "output_type": "stream",
     "text": [
      "your attendance: 62.0\n",
      "you are not allowed to pass exam\n"
     ]
    }
   ],
   "source": [
    "#1\n",
    "a=int(input('enter totall working days'))\n",
    "b=int(input('enter absent days'))\n",
    "\n",
    "k=((a-b)/a)*100\n",
    "print('your attendance:',k)\n",
    "\n",
    "if k<75:\n",
    "    print('you are not allowed to pass exam')\n",
    "else:\n",
    "    print('please, pass your exam')"
   ]
  },
  {
   "cell_type": "code",
   "execution_count": 15,
   "metadata": {},
   "outputs": [
    {
     "name": "stdout",
     "output_type": "stream",
     "text": [
      "b+\n"
     ]
    }
   ],
   "source": [
    "x=int(input('enter your grade'))\n",
    "\n",
    "if x<25:\n",
    "    print('d')\n",
    "elif x>25 and x<=45:\n",
    "    print('c')\n",
    "elif x>45 and x<=50:\n",
    "    print('b')\n",
    "elif x>50 and x<=60:\n",
    "    print('b+')\n",
    "elif x>60 and x<=80:\n",
    "    print('a')\n",
    "else:\n",
    "    print('a+')"
   ]
  },
  {
   "cell_type": "code",
   "execution_count": 19,
   "metadata": {},
   "outputs": [
    {
     "name": "stdout",
     "output_type": "stream",
     "text": [
      "your bonus+ 400.0\n"
     ]
    }
   ],
   "source": [
    "a=int(input('enter salary'))\n",
    "b=int(input('enter years of service'))\n",
    "\n",
    "if b>10:\n",
    "    c=10/100*a\n",
    "elif b>=6 and b<=10:\n",
    "    c=8/100*a\n",
    "else:\n",
    "    c=5/100*a\n",
    "print('your bonus+',c)"
   ]
  }
 ],
 "metadata": {
  "kernelspec": {
   "display_name": "Python 3",
   "language": "python",
   "name": "python3"
  },
  "language_info": {
   "codemirror_mode": {
    "name": "ipython",
    "version": 3
   },
   "file_extension": ".py",
   "mimetype": "text/x-python",
   "name": "python",
   "nbconvert_exporter": "python",
   "pygments_lexer": "ipython3",
   "version": "3.13.2"
  }
 },
 "nbformat": 4,
 "nbformat_minor": 2
}
