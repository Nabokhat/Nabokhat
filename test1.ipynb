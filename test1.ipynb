{
 "cells": [
  {
   "cell_type": "markdown",
   "metadata": {},
   "source": [
    "conditional statement"
   ]
  },
  {
   "cell_type": "markdown",
   "metadata": {},
   "source": [
    "python statement"
   ]
  },
  {
   "cell_type": "markdown",
   "metadata": {},
   "source": [
    "#1test\n",
    "-1 IF\n",
    "-2 if condition is true\n",
    "   print smth\n",
    "\n",
    "\n",
    "-3 no\n",
    "\n",
    "\n",
    "-4 age=int(input('please enter your age'))\n",
    "\n",
    "if age <18 :\n",
    "    print('sorry, you cannot vote')\n",
    "else :\n",
    "     print('you can vote')\n",
    "\n",
    "\n",
    "-5  number=int(input(\"please, enter your number to check is it odd number or not\"))\n",
    "if number %2==1:\n",
    "    print('this is odd number')\n",
    "else:\n",
    "    print('this is even number')\n",
    "\n",
    "\n",
    "\n",
    "-6 \n",
    "number=int(input('enter your number'))\n",
    "\n",
    "if number % 7==0:\n",
    "    print('this number is divisible to 7')\n",
    "else:\n",
    "    print('your number is not divisible to 7')\n",
    "\n",
    "\n",
    "-7\n",
    "number=int(input('enter your number'))\n",
    "\n",
    "if number %5==0:\n",
    "    print('hello')\n",
    "else:\n",
    "        print('bye')\n",
    "\n",
    "\n",
    "\n",
    "-8\n",
    "number=int(input('please, enter your electricity unit'))\n",
    "p=0\n",
    "if number <=100:\n",
    "    p=0\n",
    "elif number>100 and number <= 200:\n",
    "    p=(number-100)*5\n",
    "elif number>200:\n",
    "    p=(number-200)*10\n",
    "print('amount to pay:',p)\n",
    "\n",
    "\n",
    "\n",
    "-9\n",
    "number=int(input('enter your number'))\n",
    "\n",
    "print('last digit of your number is:', number%10)\n",
    "\n",
    "\n",
    "-10\n",
    "number=int(input('enter your number'))\n",
    "k=number%3\n",
    "if k%3==0:\n",
    "    print('last digit of your number is divisible to 3')\n",
    "else:\n",
    "    print('last digit of your number is not divisible to 3')"
   ]
  }
 ],
 "metadata": {
  "kernelspec": {
   "display_name": "Python 3",
   "language": "python",
   "name": "python3"
  },
  "language_info": {
   "codemirror_mode": {
    "name": "ipython",
    "version": 3
   },
   "file_extension": ".py",
   "mimetype": "text/x-python",
   "name": "python",
   "nbconvert_exporter": "python",
   "pygments_lexer": "ipython3",
   "version": "3.13.2"
  }
 },
 "nbformat": 4,
 "nbformat_minor": 2
}
