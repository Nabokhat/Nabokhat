{
 "cells": [
  {
   "cell_type": "code",
   "execution_count": 2,
   "metadata": {},
   "outputs": [
    {
     "name": "stdout",
     "output_type": "stream",
     "text": [
      "please enter three digit number\n"
     ]
    }
   ],
   "source": [
    "#1\n",
    "num=input('please enter number')\n",
    "l=len(num)\n",
    "if l!=3:\n",
    "    print('please enter three digit number')\n",
    "else:\n",
    "    print('you entered correct number')\n",
    "\n"
   ]
  },
  {
   "cell_type": "code",
   "execution_count": 4,
   "metadata": {},
   "outputs": [
    {
     "name": "stdout",
     "output_type": "stream",
     "text": [
      "you are senior citizen\n"
     ]
    }
   ],
   "source": [
    "#3\n",
    "age=int(input('please enter your age '))\n",
    "\n",
    "if age>50:\n",
    "    print('you are not senior citizen')\n",
    "else:\n",
    "    print('you are senior citizen')"
   ]
  },
  {
   "cell_type": "code",
   "execution_count": 5,
   "metadata": {},
   "outputs": [
    {
     "name": "stdout",
     "output_type": "stream",
     "text": [
      "lowest number is:  22\n"
     ]
    }
   ],
   "source": [
    "#4\n",
    "n1=int(input('please enter 1st number'))\n",
    "n2=int(input('please enter 2nd number'))\n",
    "if n1>n2:\n",
    "    print('lowest number is:', n2)\n",
    "else:\n",
    "    print('lowest number is: ',n1)"
   ]
  },
  {
   "cell_type": "code",
   "execution_count": 6,
   "metadata": {},
   "outputs": [
    {
     "name": "stdout",
     "output_type": "stream",
     "text": [
      "largest number is: 26\n"
     ]
    }
   ],
   "source": [
    "#5\n",
    "n1=int(input('please enter 1st number'))\n",
    "n2=int(input('please enter 2nd number'))\n",
    "if n1<n2:\n",
    "    print('largest number is:', n2)\n",
    "else:\n",
    "    print('largest number is: ',n1)"
   ]
  },
  {
   "cell_type": "code",
   "execution_count": 7,
   "metadata": {},
   "outputs": [
    {
     "name": "stdout",
     "output_type": "stream",
     "text": [
      "entered number is negative\n"
     ]
    }
   ],
   "source": [
    "#6\n",
    "a=int(input('enter any number'))\n",
    "if a>0:\n",
    "    print('entered number is positive')\n",
    "else:\n",
    "    print('entered number is negative' )"
   ]
  },
  {
   "cell_type": "code",
   "execution_count": 9,
   "metadata": {},
   "outputs": [
    {
     "name": "stdout",
     "output_type": "stream",
     "text": [
      "entered number is even\n"
     ]
    }
   ],
   "source": [
    "#7\n",
    "a=int(input('enter any number'))\n",
    "if a%2==0:\n",
    "    print('entered number is even')\n",
    "else:\n",
    "    print('entered number is odd' )"
   ]
  },
  {
   "cell_type": "code",
   "execution_count": 12,
   "metadata": {},
   "outputs": [
    {
     "name": "stdout",
     "output_type": "stream",
     "text": [
      "ntered number is not divisable to 2 and 3\n"
     ]
    }
   ],
   "source": [
    "#8\n",
    "a=int(input('enter any number'))\n",
    "if a%2==0 and a%3==0:\n",
    "    print('entered number is divisable to 2 and 3 ')\n",
    "else:\n",
    "    print('entered number is not divisable to 2 and 3')"
   ]
  },
  {
   "cell_type": "code",
   "execution_count": 19,
   "metadata": {},
   "outputs": [
    {
     "name": "stdout",
     "output_type": "stream",
     "text": [
      "largest number is: 26\n"
     ]
    }
   ],
   "source": [
    "#9\n",
    "n1=int(input('please enter 1st number'))\n",
    "n2=int(input('please enter 2nd number'))\n",
    "n3=int(input('please enter 3rd number'))\n",
    "if n1<n2<n3:\n",
    "    print('largest number is:', n3)\n",
    "if n1<n3<n2:\n",
    "    print('largest number is:', n2)\n",
    "if n3<n2<n1:\n",
    "    print('largest number is: ',n1)"
   ]
  }
 ],
 "metadata": {
  "kernelspec": {
   "display_name": "Python 3",
   "language": "python",
   "name": "python3"
  },
  "language_info": {
   "codemirror_mode": {
    "name": "ipython",
    "version": 3
   },
   "file_extension": ".py",
   "mimetype": "text/x-python",
   "name": "python",
   "nbconvert_exporter": "python",
   "pygments_lexer": "ipython3",
   "version": "3.13.2"
  }
 },
 "nbformat": 4,
 "nbformat_minor": 2
}
