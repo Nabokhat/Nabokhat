{
 "cells": [
  {
   "cell_type": "markdown",
   "metadata": {},
   "source": [
    "homework 1"
   ]
  },
  {
   "cell_type": "code",
   "execution_count": 2,
   "metadata": {},
   "outputs": [
    {
     "name": "stdout",
     "output_type": "stream",
     "text": [
      "8\n",
      "8\n"
     ]
    }
   ],
   "source": [
    "#1\n",
    "\n",
    "text='Mukhlisa'\n",
    "lenth=len(text)\n",
    "print(lenth)\n",
    "\n",
    "\n",
    "\n",
    "print(len(text))"
   ]
  },
  {
   "cell_type": "code",
   "execution_count": 7,
   "metadata": {},
   "outputs": [
    {
     "name": "stdout",
     "output_type": "stream",
     "text": [
      "Mu\n",
      "sa\n"
     ]
    }
   ],
   "source": [
    "#2\n",
    "print(text[0:2])\n",
    "print(text[6:8])"
   ]
  },
  {
   "cell_type": "code",
   "execution_count": 9,
   "metadata": {},
   "outputs": [
    {
     "name": "stdout",
     "output_type": "stream",
     "text": [
      "resta$t\n"
     ]
    }
   ],
   "source": [
    "#3\n",
    "a='restart'\n",
    "first= a[0]\n",
    "d= first+a[1:].replace(first,'$')\n",
    "print (d)"
   ]
  },
  {
   "cell_type": "code",
   "execution_count": 21,
   "metadata": {},
   "outputs": [
    {
     "name": "stdout",
     "output_type": "stream",
     "text": [
      "xyc abz\n"
     ]
    }
   ],
   "source": [
    "#4\n",
    "a='abc'\n",
    "b='xyz'\n",
    "result=b[:2]+a[2:] + ' '+a[:2]+b[2:] \n",
    "print (result)"
   ]
  },
  {
   "cell_type": "code",
   "execution_count": 24,
   "metadata": {},
   "outputs": [
    {
     "name": "stdout",
     "output_type": "stream",
     "text": [
      "muklisa\n"
     ]
    }
   ],
   "source": [
    "#5\n",
    "a=input('pls enter the string')\n",
    "n=int(input('pls delete the string'))\n",
    "result= a[:n]+a[n+1:]\n",
    "\n",
    "print(result)"
   ]
  },
  {
   "cell_type": "code",
   "execution_count": 27,
   "metadata": {},
   "outputs": [
    {
     "name": "stdout",
     "output_type": "stream",
     "text": [
      "M a\n",
      "aukhlisM\n"
     ]
    }
   ],
   "source": [
    "#6\n",
    "a='Mukhlisa'\n",
    "print(a[0],a[-1])\n",
    "print(a[-1]+a[1:-1]+a[0])\n"
   ]
  },
  {
   "cell_type": "code",
   "execution_count": 28,
   "metadata": {},
   "outputs": [
    {
     "name": "stdout",
     "output_type": "stream",
     "text": [
      "In this sentance,best occures 1 times\n"
     ]
    }
   ],
   "source": [
    "#7\n",
    "sentance=input('please enter your sentance')\n",
    "word=input('please enter the word')\n",
    "count=sentance.count(word)\n",
    "result=f\"In this sentance,{word} occures {count} time(s)\"\n",
    "print(result)"
   ]
  },
  {
   "cell_type": "code",
   "execution_count": 30,
   "metadata": {},
   "outputs": [
    {
     "name": "stdout",
     "output_type": "stream",
     "text": [
      "your word with upper cases-HELLO,\n",
      " your word with lower cases-hello\n"
     ]
    }
   ],
   "source": [
    "#8\n",
    "word=input('enter your word')\n",
    "up=word.upper()\n",
    "low=word.lower()\n",
    "result=f'your word with upper cases-{up},\\n your word with lower cases-{low}'\n",
    "print (result)\n"
   ]
  },
  {
   "cell_type": "code",
   "execution_count": 34,
   "metadata": {},
   "outputs": [
    {
     "name": "stdout",
     "output_type": "stream",
     "text": [
      "sasasasasa\n"
     ]
    }
   ],
   "source": [
    "#9\n",
    "a='Mukhlisa'\n",
    "result=a[6:]\n",
    "print(result*5)\n"
   ]
  },
  {
   "cell_type": "code",
   "execution_count": 36,
   "metadata": {},
   "outputs": [
    {
     "name": "stdout",
     "output_type": "stream",
     "text": [
      "Muk\n"
     ]
    }
   ],
   "source": [
    "#10\n",
    "a='Mukhlisa'\n",
    "result=a[:3]\n",
    "print(result)"
   ]
  },
  {
   "cell_type": "code",
   "execution_count": 37,
   "metadata": {},
   "outputs": [
    {
     "name": "stdout",
     "output_type": "stream",
     "text": [
      "olleh\n"
     ]
    }
   ],
   "source": [
    "#11\n",
    "a='hello'\n",
    "print(a[::-1])\n"
   ]
  },
  {
   "cell_type": "code",
   "execution_count": 38,
   "metadata": {},
   "outputs": [
    {
     "name": "stdout",
     "output_type": "stream",
     "text": [
      "True\n"
     ]
    }
   ],
   "source": [
    "#12\n",
    "a='hello'\n",
    "print(a.startswith('h'))"
   ]
  }
 ],
 "metadata": {
  "kernelspec": {
   "display_name": "Python 3",
   "language": "python",
   "name": "python3"
  },
  "language_info": {
   "codemirror_mode": {
    "name": "ipython",
    "version": 3
   },
   "file_extension": ".py",
   "mimetype": "text/x-python",
   "name": "python",
   "nbconvert_exporter": "python",
   "pygments_lexer": "ipython3",
   "version": "3.13.1"
  }
 },
 "nbformat": 4,
 "nbformat_minor": 2
}
